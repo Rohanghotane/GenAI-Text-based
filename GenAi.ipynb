{
 "cells": [
  {
   "cell_type": "markdown",
   "id": "34dc12e1-571a-401c-aaf3-fe4e951b1350",
   "metadata": {
    "scrolled": true
   },
   "source": [
    "pip install langchain"
   ]
  },
  {
   "cell_type": "code",
   "execution_count": 1,
   "id": "32f97b5d-2044-43a2-a7f9-2b3591844b3f",
   "metadata": {},
   "outputs": [
    {
     "name": "stdout",
     "output_type": "stream",
     "text": [
      "Note: you may need to restart the kernel to use updated packages.\n"
     ]
    }
   ],
   "source": [
    "pip install -qU langchain-groq"
   ]
  },
  {
   "cell_type": "code",
   "execution_count": 16,
   "id": "deac5048-2eb2-4481-9ad5-e8b9bac34353",
   "metadata": {},
   "outputs": [
    {
     "name": "stdout",
     "output_type": "stream",
     "text": [
      "Here are the SQL queries to solve the given problems:\n",
      "\n",
      "### 1. Retrieve student id, student name, address, and percentage of all those students who scored more than 80 percent.\n",
      "\n",
      "```sql\n",
      "SELECT Stu_id, Stu_name, Stu_address, Stu_percentage\n",
      "FROM students\n",
      "WHERE Stu_percentage > 80;\n",
      "```\n",
      "\n",
      "This query will return the student id, student name, address, and percentage of all students who scored more than 80 percent.\n",
      "\n",
      "### 2. Update the percentage of Rahul by 2 percent.\n",
      "\n",
      "```sql\n",
      "UPDATE students\n",
      "SET Stu_percentage = Stu_percentage + 2\n",
      "WHERE Stu_name = 'Rahul';\n",
      "```\n",
      "\n",
      "This query will update the percentage of Rahul by adding 2 percent to his current percentage.\n",
      "\n",
      "### 3. Student Ankit has left the school, so delete the whole record of him from the table.\n",
      "\n",
      "```sql\n",
      "DELETE FROM students\n",
      "WHERE Stu_name = 'Ankit';\n",
      "```\n",
      "\n",
      "This query will delete the whole record of Ankit from the students table.\n",
      "\n",
      "Note: It's generally a good practice to use the primary key (in this case, `Stu_id`) to identify the record to be updated or deleted, rather than the student name. This is because the student name may not be unique, and using it to identify the record could lead to unintended consequences. \n",
      "\n",
      "For example, if there are two students with the name 'Ankit', the above delete query would delete both records. To avoid this, you should use the `Stu_id` to identify the record:\n",
      "\n",
      "```sql\n",
      "DELETE FROM students\n",
      "WHERE Stu_id = 2;\n",
      "```\n"
     ]
    }
   ],
   "source": [
    "from langchain_groq import ChatGroq\n",
    "llm = ChatGroq(\n",
    "    temperature=0,\n",
    "    groq_api_key=\"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\",\n",
    "    model_name = \"llama-3.1-70b-versatile\"\n",
    ")\n",
    "response = llm.invoke(\"\"\"Consider a students table having different columns and values mentioned below:\n",
    "\n",
    "\n",
    "Stu_id\t   Stu_name\t       Stu_address\t   Stu_phno\t     Stu_percentage\n",
    "\n",
    "1\t       Rahul\t       Agra\t           9557806625\t  85\n",
    "\n",
    "2\t       Ankit\t       Delhi\t       8855664471\t  75\n",
    "\n",
    "3\t       Shailendra\t   Noida\t       7213457896\t  92\n",
    "\n",
    "Write sql queries for the following:\n",
    "\n",
    "1.Retrieve student id, student name, address, and percentage of all those students who scored more than 80 percent.\n",
    "\n",
    "2.Update the percentage of Rahul by 2 percent.\n",
    "\n",
    "3.Student Ankit has left the school, so delete the whole record of him from the table.\"\"\")\n",
    "print(response.content)"
   ]
  },
  {
   "cell_type": "code",
   "execution_count": null,
   "id": "ca0a2e20-afd9-46b3-bbe8-8d3a25bac218",
   "metadata": {},
   "outputs": [],
   "source": []
  },
  {
   "cell_type": "code",
   "execution_count": null,
   "id": "2f0d46eb-5529-4943-8690-2a9f76329c09",
   "metadata": {},
   "outputs": [],
   "source": []
  }
 ],
 "metadata": {
  "kernelspec": {
   "display_name": "Python 3 (ipykernel)",
   "language": "python",
   "name": "python3"
  },
  "language_info": {
   "codemirror_mode": {
    "name": "ipython",
    "version": 3
   },
   "file_extension": ".py",
   "mimetype": "text/x-python",
   "name": "python",
   "nbconvert_exporter": "python",
   "pygments_lexer": "ipython3",
   "version": "3.12.4"
  }
 },
 "nbformat": 4,
 "nbformat_minor": 5
}
